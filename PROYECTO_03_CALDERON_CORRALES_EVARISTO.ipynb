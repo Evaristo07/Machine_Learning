{
  "nbformat": 4,
  "nbformat_minor": 0,
  "metadata": {
    "colab": {
      "name": "PROYECTO-03- CALDERON-CORRALES-EVARISTO.ipynb",
      "provenance": [],
      "collapsed_sections": [],
      "authorship_tag": "ABX9TyP3ms3gQegjxWgNBCB/H3oU",
      "include_colab_link": true
    },
    "kernelspec": {
      "name": "python3",
      "display_name": "Python 3"
    },
    "language_info": {
      "name": "python"
    }
  },
  "cells": [
    {
      "cell_type": "markdown",
      "metadata": {
        "id": "view-in-github",
        "colab_type": "text"
      },
      "source": [
        "<a href=\"https://colab.research.google.com/github/Evaristo07/Machine_Learning/blob/main/PROYECTO_03_CALDERON_CORRALES_EVARISTO.ipynb\" target=\"_parent\"><img src=\"https://colab.research.google.com/assets/colab-badge.svg\" alt=\"Open In Colab\"/></a>"
      ]
    },
    {
      "cell_type": "markdown",
      "source": [
        "# 1. Basico: Carga de Datos"
      ],
      "metadata": {
        "id": "9mqGJ54QXEX8"
      }
    },
    {
      "cell_type": "code",
      "execution_count": 68,
      "metadata": {
        "id": "3uGKAsQLVRF9"
      },
      "outputs": [],
      "source": [
        "#Importamos las librerias necesarias\n",
        "import numpy as np\n",
        "import pandas as pd\n",
        "from sklearn.tree import DecisionTreeClassifier\n",
        "from sklearn.model_selection import train_test_split\n",
        "from sklearn import metrics\n",
        "import pickle\n",
        "from fastapi import FastAPI\n",
        "from pyngrok import ngrok\n",
        "import uvicorn\n",
        "import nest_asyncio"
      ]
    },
    {
      "cell_type": "code",
      "source": [
        "#Instalar librerias para utilizar API.\n",
        "\n",
        "!pip install pyngrok\n",
        "!pip install ngrok\n",
        "!pip install uvicorn\n",
        "!pip install nest-asyncio\n",
        "!pip install FastAPI\n"
      ],
      "metadata": {
        "colab": {
          "base_uri": "https://localhost:8080/"
        },
        "id": "WQ411rEx1sP7",
        "outputId": "d645e64e-f639-4f0c-fc60-2a3dadcbc86b"
      },
      "execution_count": 52,
      "outputs": [
        {
          "output_type": "stream",
          "name": "stdout",
          "text": [
            "Looking in indexes: https://pypi.org/simple, https://us-python.pkg.dev/colab-wheels/public/simple/\n",
            "Collecting pyngrok\n",
            "  Downloading pyngrok-5.1.0.tar.gz (745 kB)\n",
            "\u001b[K     |████████████████████████████████| 745 kB 6.8 MB/s \n",
            "\u001b[?25hRequirement already satisfied: PyYAML in /usr/local/lib/python3.7/dist-packages (from pyngrok) (3.13)\n",
            "Building wheels for collected packages: pyngrok\n",
            "  Building wheel for pyngrok (setup.py) ... \u001b[?25l\u001b[?25hdone\n",
            "  Created wheel for pyngrok: filename=pyngrok-5.1.0-py3-none-any.whl size=19007 sha256=edd484bfa5b9f65a404a58fbcb95dc2c93a38ae35f4465698e1ef221c9b0ca2d\n",
            "  Stored in directory: /root/.cache/pip/wheels/bf/e6/af/ccf6598ecefecd44104069371795cb9b3afbcd16987f6ccfb3\n",
            "Successfully built pyngrok\n",
            "Installing collected packages: pyngrok\n",
            "Successfully installed pyngrok-5.1.0\n",
            "Looking in indexes: https://pypi.org/simple, https://us-python.pkg.dev/colab-wheels/public/simple/\n",
            "Collecting ngrok\n",
            "  Downloading ngrok-0.1.6.tar.gz (3.5 kB)\n",
            "Collecting ping\n",
            "  Downloading ping-0.2.tar.gz (10 kB)\n",
            "\u001b[33mWARNING: Discarding https://files.pythonhosted.org/packages/03/ac/9a3f332f8d7d27cd8929922b2e225842c1623760364b37fc79dc0f65e77d/ping-0.2.tar.gz#sha256=ecb32294c2af8ae075de4a3743f568db376480ad81c2e010a7f1ce1cee7b030f (from https://pypi.org/simple/ping/). Command errored out with exit status 1: python setup.py egg_info Check the logs for full command output.\u001b[0m\n",
            "  Downloading ping-0.1.tar.gz (10 kB)\n",
            "\u001b[33mWARNING: Discarding https://files.pythonhosted.org/packages/e6/e1/0d6a865e59fc27e13c0f39afea889f34a62b209046bfb863b62b614e5a3a/ping-0.1.tar.gz#sha256=e86c646487241be6e44262b182f0fbfdc2c00f2a4a0b7b3f0c499137957d81c1 (from https://pypi.org/simple/ping/). Command errored out with exit status 1: python setup.py egg_info Check the logs for full command output.\u001b[0m\n",
            "Collecting ngrok\n",
            "  Downloading ngrok-0.1.5.tar.gz (3.5 kB)\n",
            "  Downloading ngrok-0.1.4-py3-none-any.whl (4.3 kB)\n",
            "  Downloading ngrok-0.0.1.tar.gz (1.4 kB)\n",
            "Building wheels for collected packages: ngrok\n",
            "  Building wheel for ngrok (setup.py) ... \u001b[?25l\u001b[?25hdone\n",
            "  Created wheel for ngrok: filename=ngrok-0.0.1-py3-none-any.whl size=3061 sha256=8ab5445b7c7a7f8aefeceb2b8cfbfa9cdcafad1048c483fdb1787e2b6dca6c4a\n",
            "  Stored in directory: /root/.cache/pip/wheels/b2/f2/1e/11e57b35a7c1ea622a4cff4d9622bebd373f6371f3b1728a00\n",
            "Successfully built ngrok\n",
            "Installing collected packages: ngrok\n",
            "Successfully installed ngrok-0.0.1\n",
            "Looking in indexes: https://pypi.org/simple, https://us-python.pkg.dev/colab-wheels/public/simple/\n",
            "Collecting uvicorn\n",
            "  Downloading uvicorn-0.18.2-py3-none-any.whl (57 kB)\n",
            "\u001b[K     |████████████████████████████████| 57 kB 3.7 MB/s \n",
            "\u001b[?25hRequirement already satisfied: click>=7.0 in /usr/local/lib/python3.7/dist-packages (from uvicorn) (7.1.2)\n",
            "Requirement already satisfied: typing-extensions in /usr/local/lib/python3.7/dist-packages (from uvicorn) (4.1.1)\n",
            "Collecting h11>=0.8\n",
            "  Downloading h11-0.13.0-py3-none-any.whl (58 kB)\n",
            "\u001b[K     |████████████████████████████████| 58 kB 5.2 MB/s \n",
            "\u001b[?25hInstalling collected packages: h11, uvicorn\n",
            "Successfully installed h11-0.13.0 uvicorn-0.18.2\n",
            "Looking in indexes: https://pypi.org/simple, https://us-python.pkg.dev/colab-wheels/public/simple/\n",
            "Collecting nest-asyncio\n",
            "  Downloading nest_asyncio-1.5.5-py3-none-any.whl (5.2 kB)\n",
            "Installing collected packages: nest-asyncio\n",
            "Successfully installed nest-asyncio-1.5.5\n",
            "Looking in indexes: https://pypi.org/simple, https://us-python.pkg.dev/colab-wheels/public/simple/\n",
            "Requirement already satisfied: FastAPI in /usr/local/lib/python3.7/dist-packages (0.79.0)\n",
            "Requirement already satisfied: pydantic!=1.7,!=1.7.1,!=1.7.2,!=1.7.3,!=1.8,!=1.8.1,<2.0.0,>=1.6.2 in /usr/local/lib/python3.7/dist-packages (from FastAPI) (1.9.1)\n",
            "Requirement already satisfied: starlette==0.19.1 in /usr/local/lib/python3.7/dist-packages (from FastAPI) (0.19.1)\n",
            "Requirement already satisfied: anyio<5,>=3.4.0 in /usr/local/lib/python3.7/dist-packages (from starlette==0.19.1->FastAPI) (3.6.1)\n",
            "Requirement already satisfied: typing-extensions>=3.10.0 in /usr/local/lib/python3.7/dist-packages (from starlette==0.19.1->FastAPI) (4.1.1)\n",
            "Requirement already satisfied: sniffio>=1.1 in /usr/local/lib/python3.7/dist-packages (from anyio<5,>=3.4.0->starlette==0.19.1->FastAPI) (1.2.0)\n",
            "Requirement already satisfied: idna>=2.8 in /usr/local/lib/python3.7/dist-packages (from anyio<5,>=3.4.0->starlette==0.19.1->FastAPI) (2.10)\n"
          ]
        }
      ]
    },
    {
      "cell_type": "code",
      "source": [
        "data = pd.read_csv('/content/cleaned.csv')\n",
        "data"
      ],
      "metadata": {
        "colab": {
          "base_uri": "https://localhost:8080/",
          "height": 424
        },
        "id": "NhlFwozhbMXF",
        "outputId": "153a188e-619e-4443-922a-eb769cc49385"
      },
      "execution_count": 4,
      "outputs": [
        {
          "output_type": "execute_result",
          "data": {
            "text/plain": [
              "      track_id genre_top  acousticness  danceability    energy  \\\n",
              "0          153      Rock      0.988306      0.255661  0.979774   \n",
              "1          154      Rock      0.970135      0.352946  0.023852   \n",
              "2          155      Rock      0.981657      0.142249  0.912122   \n",
              "3          169      Rock      0.989141      0.225978  0.722835   \n",
              "4          170      Rock      0.886660      0.298518  0.744333   \n",
              "...        ...       ...           ...           ...       ...   \n",
              "4797    124718   Hip-Hop      0.412194      0.686825  0.849309   \n",
              "4798    124719   Hip-Hop      0.054973      0.617535  0.728567   \n",
              "4799    124720   Hip-Hop      0.010478      0.652483  0.657498   \n",
              "4800    124721   Hip-Hop      0.067906      0.432421  0.764508   \n",
              "4801    124722   Hip-Hop      0.153518      0.638660  0.762567   \n",
              "\n",
              "      instrumentalness  liveness  speechiness    tempo   valence  \n",
              "0         9.730057e-01  0.121342     0.051740   90.241  0.034018  \n",
              "1         9.571129e-01  0.113261     0.032177   53.758  0.035632  \n",
              "2         9.672940e-01  0.363510     0.087527   91.912  0.034325  \n",
              "3         2.630763e-01  0.092371     0.053406   94.322  0.028347  \n",
              "4         9.209505e-01  0.139587     0.088781   97.880  0.073548  \n",
              "...                ...       ...          ...      ...       ...  \n",
              "4797      6.000000e-10  0.867543     0.367315   96.104  0.692414  \n",
              "4798      7.215700e-06  0.131438     0.243130   96.262  0.399720  \n",
              "4799      7.098000e-07  0.701523     0.229174   94.885  0.432240  \n",
              "4800      1.625500e-06  0.104412     0.310553  171.329  0.580087  \n",
              "4801      5.000000e-10  0.264847     0.303372   77.842  0.656612  \n",
              "\n",
              "[4802 rows x 10 columns]"
            ],
            "text/html": [
              "\n",
              "  <div id=\"df-f24f20ce-8f64-4f02-bc39-03966de75488\">\n",
              "    <div class=\"colab-df-container\">\n",
              "      <div>\n",
              "<style scoped>\n",
              "    .dataframe tbody tr th:only-of-type {\n",
              "        vertical-align: middle;\n",
              "    }\n",
              "\n",
              "    .dataframe tbody tr th {\n",
              "        vertical-align: top;\n",
              "    }\n",
              "\n",
              "    .dataframe thead th {\n",
              "        text-align: right;\n",
              "    }\n",
              "</style>\n",
              "<table border=\"1\" class=\"dataframe\">\n",
              "  <thead>\n",
              "    <tr style=\"text-align: right;\">\n",
              "      <th></th>\n",
              "      <th>track_id</th>\n",
              "      <th>genre_top</th>\n",
              "      <th>acousticness</th>\n",
              "      <th>danceability</th>\n",
              "      <th>energy</th>\n",
              "      <th>instrumentalness</th>\n",
              "      <th>liveness</th>\n",
              "      <th>speechiness</th>\n",
              "      <th>tempo</th>\n",
              "      <th>valence</th>\n",
              "    </tr>\n",
              "  </thead>\n",
              "  <tbody>\n",
              "    <tr>\n",
              "      <th>0</th>\n",
              "      <td>153</td>\n",
              "      <td>Rock</td>\n",
              "      <td>0.988306</td>\n",
              "      <td>0.255661</td>\n",
              "      <td>0.979774</td>\n",
              "      <td>9.730057e-01</td>\n",
              "      <td>0.121342</td>\n",
              "      <td>0.051740</td>\n",
              "      <td>90.241</td>\n",
              "      <td>0.034018</td>\n",
              "    </tr>\n",
              "    <tr>\n",
              "      <th>1</th>\n",
              "      <td>154</td>\n",
              "      <td>Rock</td>\n",
              "      <td>0.970135</td>\n",
              "      <td>0.352946</td>\n",
              "      <td>0.023852</td>\n",
              "      <td>9.571129e-01</td>\n",
              "      <td>0.113261</td>\n",
              "      <td>0.032177</td>\n",
              "      <td>53.758</td>\n",
              "      <td>0.035632</td>\n",
              "    </tr>\n",
              "    <tr>\n",
              "      <th>2</th>\n",
              "      <td>155</td>\n",
              "      <td>Rock</td>\n",
              "      <td>0.981657</td>\n",
              "      <td>0.142249</td>\n",
              "      <td>0.912122</td>\n",
              "      <td>9.672940e-01</td>\n",
              "      <td>0.363510</td>\n",
              "      <td>0.087527</td>\n",
              "      <td>91.912</td>\n",
              "      <td>0.034325</td>\n",
              "    </tr>\n",
              "    <tr>\n",
              "      <th>3</th>\n",
              "      <td>169</td>\n",
              "      <td>Rock</td>\n",
              "      <td>0.989141</td>\n",
              "      <td>0.225978</td>\n",
              "      <td>0.722835</td>\n",
              "      <td>2.630763e-01</td>\n",
              "      <td>0.092371</td>\n",
              "      <td>0.053406</td>\n",
              "      <td>94.322</td>\n",
              "      <td>0.028347</td>\n",
              "    </tr>\n",
              "    <tr>\n",
              "      <th>4</th>\n",
              "      <td>170</td>\n",
              "      <td>Rock</td>\n",
              "      <td>0.886660</td>\n",
              "      <td>0.298518</td>\n",
              "      <td>0.744333</td>\n",
              "      <td>9.209505e-01</td>\n",
              "      <td>0.139587</td>\n",
              "      <td>0.088781</td>\n",
              "      <td>97.880</td>\n",
              "      <td>0.073548</td>\n",
              "    </tr>\n",
              "    <tr>\n",
              "      <th>...</th>\n",
              "      <td>...</td>\n",
              "      <td>...</td>\n",
              "      <td>...</td>\n",
              "      <td>...</td>\n",
              "      <td>...</td>\n",
              "      <td>...</td>\n",
              "      <td>...</td>\n",
              "      <td>...</td>\n",
              "      <td>...</td>\n",
              "      <td>...</td>\n",
              "    </tr>\n",
              "    <tr>\n",
              "      <th>4797</th>\n",
              "      <td>124718</td>\n",
              "      <td>Hip-Hop</td>\n",
              "      <td>0.412194</td>\n",
              "      <td>0.686825</td>\n",
              "      <td>0.849309</td>\n",
              "      <td>6.000000e-10</td>\n",
              "      <td>0.867543</td>\n",
              "      <td>0.367315</td>\n",
              "      <td>96.104</td>\n",
              "      <td>0.692414</td>\n",
              "    </tr>\n",
              "    <tr>\n",
              "      <th>4798</th>\n",
              "      <td>124719</td>\n",
              "      <td>Hip-Hop</td>\n",
              "      <td>0.054973</td>\n",
              "      <td>0.617535</td>\n",
              "      <td>0.728567</td>\n",
              "      <td>7.215700e-06</td>\n",
              "      <td>0.131438</td>\n",
              "      <td>0.243130</td>\n",
              "      <td>96.262</td>\n",
              "      <td>0.399720</td>\n",
              "    </tr>\n",
              "    <tr>\n",
              "      <th>4799</th>\n",
              "      <td>124720</td>\n",
              "      <td>Hip-Hop</td>\n",
              "      <td>0.010478</td>\n",
              "      <td>0.652483</td>\n",
              "      <td>0.657498</td>\n",
              "      <td>7.098000e-07</td>\n",
              "      <td>0.701523</td>\n",
              "      <td>0.229174</td>\n",
              "      <td>94.885</td>\n",
              "      <td>0.432240</td>\n",
              "    </tr>\n",
              "    <tr>\n",
              "      <th>4800</th>\n",
              "      <td>124721</td>\n",
              "      <td>Hip-Hop</td>\n",
              "      <td>0.067906</td>\n",
              "      <td>0.432421</td>\n",
              "      <td>0.764508</td>\n",
              "      <td>1.625500e-06</td>\n",
              "      <td>0.104412</td>\n",
              "      <td>0.310553</td>\n",
              "      <td>171.329</td>\n",
              "      <td>0.580087</td>\n",
              "    </tr>\n",
              "    <tr>\n",
              "      <th>4801</th>\n",
              "      <td>124722</td>\n",
              "      <td>Hip-Hop</td>\n",
              "      <td>0.153518</td>\n",
              "      <td>0.638660</td>\n",
              "      <td>0.762567</td>\n",
              "      <td>5.000000e-10</td>\n",
              "      <td>0.264847</td>\n",
              "      <td>0.303372</td>\n",
              "      <td>77.842</td>\n",
              "      <td>0.656612</td>\n",
              "    </tr>\n",
              "  </tbody>\n",
              "</table>\n",
              "<p>4802 rows × 10 columns</p>\n",
              "</div>\n",
              "      <button class=\"colab-df-convert\" onclick=\"convertToInteractive('df-f24f20ce-8f64-4f02-bc39-03966de75488')\"\n",
              "              title=\"Convert this dataframe to an interactive table.\"\n",
              "              style=\"display:none;\">\n",
              "        \n",
              "  <svg xmlns=\"http://www.w3.org/2000/svg\" height=\"24px\"viewBox=\"0 0 24 24\"\n",
              "       width=\"24px\">\n",
              "    <path d=\"M0 0h24v24H0V0z\" fill=\"none\"/>\n",
              "    <path d=\"M18.56 5.44l.94 2.06.94-2.06 2.06-.94-2.06-.94-.94-2.06-.94 2.06-2.06.94zm-11 1L8.5 8.5l.94-2.06 2.06-.94-2.06-.94L8.5 2.5l-.94 2.06-2.06.94zm10 10l.94 2.06.94-2.06 2.06-.94-2.06-.94-.94-2.06-.94 2.06-2.06.94z\"/><path d=\"M17.41 7.96l-1.37-1.37c-.4-.4-.92-.59-1.43-.59-.52 0-1.04.2-1.43.59L10.3 9.45l-7.72 7.72c-.78.78-.78 2.05 0 2.83L4 21.41c.39.39.9.59 1.41.59.51 0 1.02-.2 1.41-.59l7.78-7.78 2.81-2.81c.8-.78.8-2.07 0-2.86zM5.41 20L4 18.59l7.72-7.72 1.47 1.35L5.41 20z\"/>\n",
              "  </svg>\n",
              "      </button>\n",
              "      \n",
              "  <style>\n",
              "    .colab-df-container {\n",
              "      display:flex;\n",
              "      flex-wrap:wrap;\n",
              "      gap: 12px;\n",
              "    }\n",
              "\n",
              "    .colab-df-convert {\n",
              "      background-color: #E8F0FE;\n",
              "      border: none;\n",
              "      border-radius: 50%;\n",
              "      cursor: pointer;\n",
              "      display: none;\n",
              "      fill: #1967D2;\n",
              "      height: 32px;\n",
              "      padding: 0 0 0 0;\n",
              "      width: 32px;\n",
              "    }\n",
              "\n",
              "    .colab-df-convert:hover {\n",
              "      background-color: #E2EBFA;\n",
              "      box-shadow: 0px 1px 2px rgba(60, 64, 67, 0.3), 0px 1px 3px 1px rgba(60, 64, 67, 0.15);\n",
              "      fill: #174EA6;\n",
              "    }\n",
              "\n",
              "    [theme=dark] .colab-df-convert {\n",
              "      background-color: #3B4455;\n",
              "      fill: #D2E3FC;\n",
              "    }\n",
              "\n",
              "    [theme=dark] .colab-df-convert:hover {\n",
              "      background-color: #434B5C;\n",
              "      box-shadow: 0px 1px 3px 1px rgba(0, 0, 0, 0.15);\n",
              "      filter: drop-shadow(0px 1px 2px rgba(0, 0, 0, 0.3));\n",
              "      fill: #FFFFFF;\n",
              "    }\n",
              "  </style>\n",
              "\n",
              "      <script>\n",
              "        const buttonEl =\n",
              "          document.querySelector('#df-f24f20ce-8f64-4f02-bc39-03966de75488 button.colab-df-convert');\n",
              "        buttonEl.style.display =\n",
              "          google.colab.kernel.accessAllowed ? 'block' : 'none';\n",
              "\n",
              "        async function convertToInteractive(key) {\n",
              "          const element = document.querySelector('#df-f24f20ce-8f64-4f02-bc39-03966de75488');\n",
              "          const dataTable =\n",
              "            await google.colab.kernel.invokeFunction('convertToInteractive',\n",
              "                                                     [key], {});\n",
              "          if (!dataTable) return;\n",
              "\n",
              "          const docLinkHtml = 'Like what you see? Visit the ' +\n",
              "            '<a target=\"_blank\" href=https://colab.research.google.com/notebooks/data_table.ipynb>data table notebook</a>'\n",
              "            + ' to learn more about interactive tables.';\n",
              "          element.innerHTML = '';\n",
              "          dataTable['output_type'] = 'display_data';\n",
              "          await google.colab.output.renderOutput(dataTable, element);\n",
              "          const docLink = document.createElement('div');\n",
              "          docLink.innerHTML = docLinkHtml;\n",
              "          element.appendChild(docLink);\n",
              "        }\n",
              "      </script>\n",
              "    </div>\n",
              "  </div>\n",
              "  "
            ]
          },
          "metadata": {},
          "execution_count": 4
        }
      ]
    },
    {
      "cell_type": "markdown",
      "source": [
        "*   Al ejecutar tu analisis exploratorio describe el numero de filas y columnas que encuentras\n"
      ],
      "metadata": {
        "id": "Hn48eB72akVx"
      }
    },
    {
      "cell_type": "markdown",
      "source": [
        "Numero de filas y columnas"
      ],
      "metadata": {
        "id": "xkjfWL3Eau6R"
      }
    },
    {
      "cell_type": "code",
      "source": [
        "#Calculamos el numero de filas y columnas\n",
        "print('El numero de filas es: ', data.shape[0])\n",
        "print('El numero de columnas es: ', data.shape[1])"
      ],
      "metadata": {
        "colab": {
          "base_uri": "https://localhost:8080/"
        },
        "id": "pmp-JMuGbEe1",
        "outputId": "4ce4a207-26ad-48d5-fd2a-2cadce21c519"
      },
      "execution_count": 13,
      "outputs": [
        {
          "output_type": "stream",
          "name": "stdout",
          "text": [
            "El numero de filas es:  4802\n",
            "El numero de columnas es:  10\n"
          ]
        }
      ]
    },
    {
      "cell_type": "markdown",
      "source": [
        "*   Calcula la media, maximo, minimo y desviacion estandar de las columnas con valores numericos."
      ],
      "metadata": {
        "id": "Ja_Pi5LHb9Sv"
      }
    },
    {
      "cell_type": "code",
      "source": [
        "#calculamos la media, maximo, minimo y desviacion estandar\n",
        "data.describe()"
      ],
      "metadata": {
        "colab": {
          "base_uri": "https://localhost:8080/",
          "height": 300
        },
        "id": "Q8EsfhvKcZ0E",
        "outputId": "f25db377-3637-474d-def5-c0a068cdd26e"
      },
      "execution_count": 14,
      "outputs": [
        {
          "output_type": "execute_result",
          "data": {
            "text/plain": [
              "            track_id  acousticness  danceability       energy  \\\n",
              "count    4802.000000  4.802000e+03   4802.000000  4802.000000   \n",
              "mean    30164.871720  4.870600e-01      0.436556     0.625126   \n",
              "std     28592.013796  3.681396e-01      0.183502     0.244051   \n",
              "min         2.000000  9.491000e-07      0.051307     0.000279   \n",
              "25%      7494.250000  8.351236e-02      0.296047     0.450757   \n",
              "50%     20723.500000  5.156888e-01      0.419447     0.648374   \n",
              "75%     44240.750000  8.555765e-01      0.565339     0.837016   \n",
              "max    124722.000000  9.957965e-01      0.961871     0.999768   \n",
              "\n",
              "       instrumentalness     liveness  speechiness        tempo      valence  \n",
              "count       4802.000000  4802.000000  4802.000000  4802.000000  4802.000000  \n",
              "mean           0.604096     0.187997     0.104877   126.687944     0.453413  \n",
              "std            0.376487     0.150562     0.145934    34.002473     0.266632  \n",
              "min            0.000000     0.025297     0.023234    29.093000     0.014392  \n",
              "25%            0.164972     0.104052     0.036897    98.000750     0.224617  \n",
              "50%            0.808752     0.123080     0.049594   124.625500     0.446240  \n",
              "75%            0.915472     0.215151     0.088290   151.450000     0.666914  \n",
              "max            0.993134     0.971392     0.966177   250.059000     0.983649  "
            ],
            "text/html": [
              "\n",
              "  <div id=\"df-df18db44-f5a5-4e31-b5f1-b573fdad0428\">\n",
              "    <div class=\"colab-df-container\">\n",
              "      <div>\n",
              "<style scoped>\n",
              "    .dataframe tbody tr th:only-of-type {\n",
              "        vertical-align: middle;\n",
              "    }\n",
              "\n",
              "    .dataframe tbody tr th {\n",
              "        vertical-align: top;\n",
              "    }\n",
              "\n",
              "    .dataframe thead th {\n",
              "        text-align: right;\n",
              "    }\n",
              "</style>\n",
              "<table border=\"1\" class=\"dataframe\">\n",
              "  <thead>\n",
              "    <tr style=\"text-align: right;\">\n",
              "      <th></th>\n",
              "      <th>track_id</th>\n",
              "      <th>acousticness</th>\n",
              "      <th>danceability</th>\n",
              "      <th>energy</th>\n",
              "      <th>instrumentalness</th>\n",
              "      <th>liveness</th>\n",
              "      <th>speechiness</th>\n",
              "      <th>tempo</th>\n",
              "      <th>valence</th>\n",
              "    </tr>\n",
              "  </thead>\n",
              "  <tbody>\n",
              "    <tr>\n",
              "      <th>count</th>\n",
              "      <td>4802.000000</td>\n",
              "      <td>4.802000e+03</td>\n",
              "      <td>4802.000000</td>\n",
              "      <td>4802.000000</td>\n",
              "      <td>4802.000000</td>\n",
              "      <td>4802.000000</td>\n",
              "      <td>4802.000000</td>\n",
              "      <td>4802.000000</td>\n",
              "      <td>4802.000000</td>\n",
              "    </tr>\n",
              "    <tr>\n",
              "      <th>mean</th>\n",
              "      <td>30164.871720</td>\n",
              "      <td>4.870600e-01</td>\n",
              "      <td>0.436556</td>\n",
              "      <td>0.625126</td>\n",
              "      <td>0.604096</td>\n",
              "      <td>0.187997</td>\n",
              "      <td>0.104877</td>\n",
              "      <td>126.687944</td>\n",
              "      <td>0.453413</td>\n",
              "    </tr>\n",
              "    <tr>\n",
              "      <th>std</th>\n",
              "      <td>28592.013796</td>\n",
              "      <td>3.681396e-01</td>\n",
              "      <td>0.183502</td>\n",
              "      <td>0.244051</td>\n",
              "      <td>0.376487</td>\n",
              "      <td>0.150562</td>\n",
              "      <td>0.145934</td>\n",
              "      <td>34.002473</td>\n",
              "      <td>0.266632</td>\n",
              "    </tr>\n",
              "    <tr>\n",
              "      <th>min</th>\n",
              "      <td>2.000000</td>\n",
              "      <td>9.491000e-07</td>\n",
              "      <td>0.051307</td>\n",
              "      <td>0.000279</td>\n",
              "      <td>0.000000</td>\n",
              "      <td>0.025297</td>\n",
              "      <td>0.023234</td>\n",
              "      <td>29.093000</td>\n",
              "      <td>0.014392</td>\n",
              "    </tr>\n",
              "    <tr>\n",
              "      <th>25%</th>\n",
              "      <td>7494.250000</td>\n",
              "      <td>8.351236e-02</td>\n",
              "      <td>0.296047</td>\n",
              "      <td>0.450757</td>\n",
              "      <td>0.164972</td>\n",
              "      <td>0.104052</td>\n",
              "      <td>0.036897</td>\n",
              "      <td>98.000750</td>\n",
              "      <td>0.224617</td>\n",
              "    </tr>\n",
              "    <tr>\n",
              "      <th>50%</th>\n",
              "      <td>20723.500000</td>\n",
              "      <td>5.156888e-01</td>\n",
              "      <td>0.419447</td>\n",
              "      <td>0.648374</td>\n",
              "      <td>0.808752</td>\n",
              "      <td>0.123080</td>\n",
              "      <td>0.049594</td>\n",
              "      <td>124.625500</td>\n",
              "      <td>0.446240</td>\n",
              "    </tr>\n",
              "    <tr>\n",
              "      <th>75%</th>\n",
              "      <td>44240.750000</td>\n",
              "      <td>8.555765e-01</td>\n",
              "      <td>0.565339</td>\n",
              "      <td>0.837016</td>\n",
              "      <td>0.915472</td>\n",
              "      <td>0.215151</td>\n",
              "      <td>0.088290</td>\n",
              "      <td>151.450000</td>\n",
              "      <td>0.666914</td>\n",
              "    </tr>\n",
              "    <tr>\n",
              "      <th>max</th>\n",
              "      <td>124722.000000</td>\n",
              "      <td>9.957965e-01</td>\n",
              "      <td>0.961871</td>\n",
              "      <td>0.999768</td>\n",
              "      <td>0.993134</td>\n",
              "      <td>0.971392</td>\n",
              "      <td>0.966177</td>\n",
              "      <td>250.059000</td>\n",
              "      <td>0.983649</td>\n",
              "    </tr>\n",
              "  </tbody>\n",
              "</table>\n",
              "</div>\n",
              "      <button class=\"colab-df-convert\" onclick=\"convertToInteractive('df-df18db44-f5a5-4e31-b5f1-b573fdad0428')\"\n",
              "              title=\"Convert this dataframe to an interactive table.\"\n",
              "              style=\"display:none;\">\n",
              "        \n",
              "  <svg xmlns=\"http://www.w3.org/2000/svg\" height=\"24px\"viewBox=\"0 0 24 24\"\n",
              "       width=\"24px\">\n",
              "    <path d=\"M0 0h24v24H0V0z\" fill=\"none\"/>\n",
              "    <path d=\"M18.56 5.44l.94 2.06.94-2.06 2.06-.94-2.06-.94-.94-2.06-.94 2.06-2.06.94zm-11 1L8.5 8.5l.94-2.06 2.06-.94-2.06-.94L8.5 2.5l-.94 2.06-2.06.94zm10 10l.94 2.06.94-2.06 2.06-.94-2.06-.94-.94-2.06-.94 2.06-2.06.94z\"/><path d=\"M17.41 7.96l-1.37-1.37c-.4-.4-.92-.59-1.43-.59-.52 0-1.04.2-1.43.59L10.3 9.45l-7.72 7.72c-.78.78-.78 2.05 0 2.83L4 21.41c.39.39.9.59 1.41.59.51 0 1.02-.2 1.41-.59l7.78-7.78 2.81-2.81c.8-.78.8-2.07 0-2.86zM5.41 20L4 18.59l7.72-7.72 1.47 1.35L5.41 20z\"/>\n",
              "  </svg>\n",
              "      </button>\n",
              "      \n",
              "  <style>\n",
              "    .colab-df-container {\n",
              "      display:flex;\n",
              "      flex-wrap:wrap;\n",
              "      gap: 12px;\n",
              "    }\n",
              "\n",
              "    .colab-df-convert {\n",
              "      background-color: #E8F0FE;\n",
              "      border: none;\n",
              "      border-radius: 50%;\n",
              "      cursor: pointer;\n",
              "      display: none;\n",
              "      fill: #1967D2;\n",
              "      height: 32px;\n",
              "      padding: 0 0 0 0;\n",
              "      width: 32px;\n",
              "    }\n",
              "\n",
              "    .colab-df-convert:hover {\n",
              "      background-color: #E2EBFA;\n",
              "      box-shadow: 0px 1px 2px rgba(60, 64, 67, 0.3), 0px 1px 3px 1px rgba(60, 64, 67, 0.15);\n",
              "      fill: #174EA6;\n",
              "    }\n",
              "\n",
              "    [theme=dark] .colab-df-convert {\n",
              "      background-color: #3B4455;\n",
              "      fill: #D2E3FC;\n",
              "    }\n",
              "\n",
              "    [theme=dark] .colab-df-convert:hover {\n",
              "      background-color: #434B5C;\n",
              "      box-shadow: 0px 1px 3px 1px rgba(0, 0, 0, 0.15);\n",
              "      filter: drop-shadow(0px 1px 2px rgba(0, 0, 0, 0.3));\n",
              "      fill: #FFFFFF;\n",
              "    }\n",
              "  </style>\n",
              "\n",
              "      <script>\n",
              "        const buttonEl =\n",
              "          document.querySelector('#df-df18db44-f5a5-4e31-b5f1-b573fdad0428 button.colab-df-convert');\n",
              "        buttonEl.style.display =\n",
              "          google.colab.kernel.accessAllowed ? 'block' : 'none';\n",
              "\n",
              "        async function convertToInteractive(key) {\n",
              "          const element = document.querySelector('#df-df18db44-f5a5-4e31-b5f1-b573fdad0428');\n",
              "          const dataTable =\n",
              "            await google.colab.kernel.invokeFunction('convertToInteractive',\n",
              "                                                     [key], {});\n",
              "          if (!dataTable) return;\n",
              "\n",
              "          const docLinkHtml = 'Like what you see? Visit the ' +\n",
              "            '<a target=\"_blank\" href=https://colab.research.google.com/notebooks/data_table.ipynb>data table notebook</a>'\n",
              "            + ' to learn more about interactive tables.';\n",
              "          element.innerHTML = '';\n",
              "          dataTable['output_type'] = 'display_data';\n",
              "          await google.colab.output.renderOutput(dataTable, element);\n",
              "          const docLink = document.createElement('div');\n",
              "          docLink.innerHTML = docLinkHtml;\n",
              "          element.appendChild(docLink);\n",
              "        }\n",
              "      </script>\n",
              "    </div>\n",
              "  </div>\n",
              "  "
            ]
          },
          "metadata": {},
          "execution_count": 14
        }
      ]
    },
    {
      "cell_type": "markdown",
      "source": [
        "# 2. Intermedio: Modelo"
      ],
      "metadata": {
        "id": "wbhDG0W0cs5p"
      }
    },
    {
      "cell_type": "markdown",
      "source": [
        "* Desarrolla el arbol de decisión utilizando la libreria sklearn."
      ],
      "metadata": {
        "id": "XcJ-RxqYczju"
      }
    },
    {
      "cell_type": "code",
      "source": [
        "#Dataset y variable objetivo\n",
        "features = [\"acousticness\", \"danceability\", \"energy\", \"instrumentalness\", \"liveness\", \"speechiness\", \"tempo\", \"valence\"]\n",
        "x = data[features]\n",
        "y = data.genre_top"
      ],
      "metadata": {
        "id": "XP1vDiERdQlv"
      },
      "execution_count": 33,
      "outputs": []
    },
    {
      "cell_type": "code",
      "source": [
        "#Entrenamientos y pruebas\n",
        "x_train, x_test, y_train, y_test = train_test_split(X, y, test_size=0.3, random_state=1)\n",
        "tree = DecisionTreeClassifier(criterion=\"entropy\", max_depth=3)\n",
        "tree = tree.fit(x_train.values, y_train.values)\n",
        "y_predict = tree.predict(x_test.values)"
      ],
      "metadata": {
        "id": "F_yyE7-Puoll"
      },
      "execution_count": 34,
      "outputs": []
    },
    {
      "cell_type": "markdown",
      "source": [
        "* Crea una clase para ingresar variables para predicciones."
      ],
      "metadata": {
        "id": "vKluxBPHdGra"
      }
    },
    {
      "cell_type": "code",
      "source": [
        "from pydantic import BaseModel\n",
        "\n",
        "class ingresarVariablesPredic(BaseModel):\n",
        "  acousticness: float\n",
        "  danceability: float\n",
        "  energy: float\n",
        "  instrumentalness: float\n",
        "  liveness: float\n",
        "  speechiness: float\n",
        "  tempo: float\n",
        "  valence: float\n",
        "  class Config:\n",
        "    schema_extra = { # EJEMPLO DE LOS DATOS QUE SE LE INSERTARIAN\n",
        "        \"example\": {\n",
        "            \"acousticness\": 0.87475,\n",
        "            \"danceability\": 0.345764,\n",
        "            \"energy\": 0.674756,\n",
        "            \"instrumentalness\": 0.936645,\n",
        "            \"liveness\": 0.63232,\n",
        "            \"speechiness\": 0.06438734,\n",
        "            \"tempo\": 114.7547,\n",
        "            \"valence\": 0.07365\n",
        "        }\n",
        "    }\n"
      ],
      "metadata": {
        "id": "rjO1sutQdRDu"
      },
      "execution_count": 35,
      "outputs": []
    },
    {
      "cell_type": "markdown",
      "source": [
        "# 3. Avanzado: API"
      ],
      "metadata": {
        "id": "wP9ISyknpFaC"
      }
    },
    {
      "cell_type": "markdown",
      "source": [
        "* Guarda el modelo utilizando Pickle."
      ],
      "metadata": {
        "id": "agx25h7-pRel"
      }
    },
    {
      "cell_type": "code",
      "source": [
        "#Exportando el modelo con pickle\n",
        "pickle.dump(tree, open(\"model_tree.pkl\", 'wb'))\n",
        "print(\"El modelo se ha exportado correctamente\")\n"
      ],
      "metadata": {
        "colab": {
          "base_uri": "https://localhost:8080/"
        },
        "id": "ntYEgMx5qBBR",
        "outputId": "3805df5e-5b86-4f2c-a453-bb4cd76a13bc"
      },
      "execution_count": 45,
      "outputs": [
        {
          "output_type": "stream",
          "name": "stdout",
          "text": [
            "El modelo se ha exportado correctamente\n"
          ]
        }
      ]
    },
    {
      "cell_type": "markdown",
      "source": [
        "* Crea una API con FastAPI."
      ],
      "metadata": {
        "id": "M3uBqCRgpbtp"
      }
    },
    {
      "cell_type": "markdown",
      "source": [
        "* Carga el modelo en la API, crea un endpoint de acceso donde si la API carga muestre el mensaje \"Punto de acceso API\""
      ],
      "metadata": {
        "id": "53nFveqyphTz"
      }
    },
    {
      "cell_type": "code",
      "source": [
        "#Creamos la API\n",
        "app = FastAPI() #Definimos que utilizaremos FastAPI en la variable app.\n",
        "\n",
        "@app.on_event(\"startup\") #Con esto creamos la orden de que la siguiente función debe correrse previo al arranque de la app.\n",
        "def load_model():#Carga el modelo.\n",
        "    global model\n",
        "    model = pickle.load(open(\"model_tree.pkl\", \"rb\")) #Usamos pickle para deserializar, rb = read binary o lee binario.\n",
        "\n",
        "@app.get('/') #Si se logró deserializar y entramos debería aparecer esta indicación.\n",
        "def index():\n",
        "    return {'Punto de acceso API'}\n",
        "\n",
        "#Lo siguiente da la indicación de qué es lo que el usuario debe ingresar como datos para crear una predicción. \n",
        "#Lo cual corresponde a lo que se definió en la herramienta de verificación de la API, clase.\n",
        "@app.post('/predict')\n",
        "def get_music_category(data: ingresarVariablesPredic):\n",
        "    received = data.dict()\n",
        "    acousticness = received['acousticness']\n",
        "    danceability = received['danceability']\n",
        "    energy = received['energy']\n",
        "    instrumentalness = received['instrumentalness']\n",
        "    liveness = received['liveness']\n",
        "    speechiness = received['speechiness']\n",
        "    tempo = received['tempo']\n",
        "    valence = received['valence']\n",
        "\n",
        " #Se utilizan los datos anteriores para crear una predicción.   \n",
        "    Mod_Prediccion = model.predict([[acousticness, danceability, energy,\n",
        "                                instrumentalness, liveness, speechiness, tempo, valence]]).tolist()[0]\n",
        "    return {'prediction': Mod_Prediccion} #Y regresa esa predicción."
      ],
      "metadata": {
        "id": "0oqhSDH-qBe_"
      },
      "execution_count": 54,
      "outputs": []
    },
    {
      "cell_type": "code",
      "source": [
        "! ngrok authtoken 2DGCG0eBlOi7BPf6BRkDaEbhXVl_3c2WJ72qywkPtQGQfCkGK #PONER TU AUTHTOKEN."
      ],
      "metadata": {
        "colab": {
          "base_uri": "https://localhost:8080/"
        },
        "id": "g3RsOhOC4pKl",
        "outputId": "80bf8e09-c2c1-4df0-a3fb-d11cd6dd56a0"
      },
      "execution_count": 66,
      "outputs": [
        {
          "output_type": "stream",
          "name": "stdout",
          "text": [
            "Authtoken saved to configuration file: /root/.ngrok2/ngrok.yml\n"
          ]
        }
      ]
    },
    {
      "cell_type": "markdown",
      "source": [
        "* Simula acceder a la API y captura el resultado en pantalla.\n"
      ],
      "metadata": {
        "id": "g0F4K0Nop05X"
      }
    },
    {
      "cell_type": "code",
      "source": [
        "#Creamos el túnel de conexión.\n",
        "\n",
        "ngrok_tunnel = ngrok.connect(8000)\n",
        "\n",
        "#Mostrar el URL para acceder.\n",
        "print('Public URL:', ngrok_tunnel.public_url)\n",
        "\n",
        "#Conectar la API\n",
        "nest_asyncio.apply()\n",
        "uvicorn.run(app, port=8000)"
      ],
      "metadata": {
        "colab": {
          "base_uri": "https://localhost:8080/"
        },
        "id": "E9iRCVzjqDOa",
        "outputId": "5f1c0f54-450b-48db-b60d-4d7f6506354b"
      },
      "execution_count": 71,
      "outputs": [
        {
          "output_type": "stream",
          "name": "stdout",
          "text": [
            "Public URL: http://9bf9-34-83-87-19.ngrok.io\n"
          ]
        },
        {
          "output_type": "stream",
          "name": "stderr",
          "text": [
            "INFO:     Started server process [55]\n",
            "INFO:uvicorn.error:Started server process [55]\n",
            "INFO:     Waiting for application startup.\n",
            "INFO:uvicorn.error:Waiting for application startup.\n",
            "INFO:     Application startup complete.\n",
            "INFO:uvicorn.error:Application startup complete.\n",
            "INFO:     Uvicorn running on http://127.0.0.1:8000 (Press CTRL+C to quit)\n",
            "INFO:uvicorn.error:Uvicorn running on http://127.0.0.1:8000 (Press CTRL+C to quit)\n",
            "INFO:     Shutting down\n",
            "INFO:uvicorn.error:Shutting down\n",
            "INFO:     Waiting for application shutdown.\n",
            "INFO:uvicorn.error:Waiting for application shutdown.\n",
            "INFO:     Application shutdown complete.\n",
            "INFO:uvicorn.error:Application shutdown complete.\n",
            "INFO:     Finished server process [55]\n",
            "INFO:uvicorn.error:Finished server process [55]\n"
          ]
        }
      ]
    }
  ]
}